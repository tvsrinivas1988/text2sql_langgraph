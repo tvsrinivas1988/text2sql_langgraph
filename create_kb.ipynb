{
 "cells": [
  {
   "cell_type": "code",
   "execution_count": 58,
   "id": "08ad135d",
   "metadata": {},
   "outputs": [
    {
     "data": {
      "text/plain": [
       "True"
      ]
     },
     "execution_count": 58,
     "metadata": {},
     "output_type": "execute_result"
    }
   ],
   "source": [
    "import pandas as pd\n",
    "from groq import Groq\n",
    "from langchain_groq import ChatGroq\n",
    "from langchain_core.output_parsers import StrOutputParser\n",
    "from langchain_core.prompts import ChatPromptTemplate\n",
    "from langchain_core.runnables import RunnablePassthrough, RunnableMap, RunnableLambda\n",
    "from sqlalchemy import create_engine\n",
    "import tqdm\n",
    "import time\n",
    "import pickle\n",
    "\n",
    "\n",
    "from dotenv import load_dotenv\n",
    "\n",
    "load_dotenv()"
   ]
  },
  {
   "cell_type": "code",
   "execution_count": 59,
   "id": "0e82d787",
   "metadata": {},
   "outputs": [],
   "source": [
    "table_description = {\n",
    "'brand_master'  : 'It contains data related to the bmapping of brand id and the name of the brand ',\n",
    "'cost_center_hierarchy' : 'It contains data related to cost center id  , The name of the cost center, the mapping between a cost center and functional area and also the parent cost center id which indicates the rollup cost center for this cost center',\n",
    "'cost_element_hierarchy' : 'It contains data related to cost element id  , The name of the cost element, and also the parent cost element id which indicates the rollup cost element for this cost center',\n",
    "'functional_area_hierarchy' : 'It contains data related to fuctional_area id  , The name of the functional area, and also the parent functional area id which indicates the rollup functional area for this cost center Each  cost center from cost_center_hierarchy is mapped to a functional area id in this table',\n",
    "'functional_area_metric_map' : 'It contains mapping of a functional area to Profit & Loss metric like Net Sales , Gross Sales , Expenses etc',\n",
    "'key_figure_metric_map' : 'It contains mapping of a key figures to Profit & Loss metric like Net Sales , Gross Sales , Expenses etc',\n",
    "'profit_center_hierarchy' : 'It contains data related to profit center id  , The name of the profit center , and also the parent profit center id which indicates the rollup profit center. Each  profit center also maps to the Brand Id from the brand_master table .',\n",
    "'sales_data' : 'It contains data related the actual sales which is segregated by key figure, version,year month, profit center  and value .Each key_figure maps to a business metric which can be found using key_figure_metric_map.Each Profit Center maps to a Brand id which can be found using profit_center_hierarchy. The actual Brand name can be found using the mapping from brand_master . Each Version name is an identifier that tells if the version is an actual version or budget. Currency tells about the transaction Currency used for the transaction.',\n",
    " 'income_expense_reporting' : 'It contains data related the actual sales & expenses which is segregated by key figure, version,year month, profit center  and value .Each key_figure maps to a business metric which can be found using key_figure_metric_map.Each Profit Center maps to a Brand id which can be found using profit_center_hierarchy. The actual Brand name can be found using the mapping from brand_master . Each Version name is an identifier that tells if the version is an actual version or budget. Currency tells about the transaction Currency used for the transaction.'\n",
    "}"
   ]
  },
  {
   "cell_type": "code",
   "execution_count": 61,
   "id": "1af61936",
   "metadata": {},
   "outputs": [
    {
     "name": "stdout",
     "output_type": "stream",
     "text": [
      "('PostgreSQL 17.5 (1b53132) on aarch64-unknown-linux-gnu, compiled by gcc (Debian 12.2.0-14+deb12u1) 12.2.0, 64-bit',)\n"
     ]
    }
   ],
   "source": [
    "from sqlalchemy import create_engine,text\n",
    "import os\n",
    "DB_USER=os.getenv(\"DB_USER\")\n",
    "DB_PASSWORD=os.getenv(\"DB_PASSWORD\")\n",
    "DB_HOST=os.getenv(\"DB_HOST\")\n",
    "DB_NAME=os.getenv(\"DBBASE\")\n",
    "DB_PORT=5432\n",
    "\n",
    "engine = create_engine(f\"postgresql://{DB_USER}:{DB_PASSWORD}@{DB_HOST}:{DB_PORT}/{DB_NAME}?sslmode=require\")\n",
    "\n",
    "with engine.connect() as conn:\n",
    "    result = conn.execute(text(\"SELECT version();\"))\n",
    "    for row in result:\n",
    "        print(row)\n"
   ]
  },
  {
   "cell_type": "code",
   "execution_count": 62,
   "id": "9f1c73eb",
   "metadata": {},
   "outputs": [],
   "source": [
    "import pandas as pd\n",
    "from sqlalchemy import create_engine, text\n",
    "\n",
    "def read_sql(table, engine):\n",
    "    conn = None\n",
    "    try:\n",
    "        # Open a connection\n",
    "        conn = engine.connect()\n",
    "\n",
    "        # Query to get shuffled rows and limit to 5\n",
    "        query = f\"SELECT * FROM {table} ORDER BY RANDOM() LIMIT 5;\"\n",
    "\n",
    "        # Execute and load into DataFrame\n",
    "        df_sample = pd.read_sql(text(query), con=conn)\n",
    "        return df_sample\n",
    "\n",
    "    except Exception as e:\n",
    "        print(f\"Error while reading from {table}: {e}\")\n",
    "        return None\n",
    "\n",
    "    finally:\n",
    "        # Close connection if it was opened\n",
    "        if conn is not None:\n",
    "            conn.close()\n"
   ]
  },
  {
   "cell_type": "code",
   "execution_count": 63,
   "id": "620219f2",
   "metadata": {},
   "outputs": [],
   "source": [
    "os.environ[\"GROQ_API_KEY\"] = os.getenv(\"GROQ_API_KEY\")\n",
    "model = ChatGroq(\n",
    "    model=\"deepseek-r1-distill-llama-70b\",\n",
    "    temperature=0,\n",
    "    max_tokens=None\n",
    ")\n",
    "\n"
   ]
  },
  {
   "cell_type": "code",
   "execution_count": null,
   "id": "c1e0c656",
   "metadata": {},
   "outputs": [],
   "source": [
    "template = ChatPromptTemplate.from_messages([\n",
    "    (\"system\", \"\"\"\n",
    "You are an intelligent data annotator. Please annotate data as mentioned by human and give output without any verbose and without any additional explantion.\n",
    "You will be given sql table description and sample columns from the sql table. The description that you generate will be given as input to text to sql automated system.\n",
    "Output of project depends on how you generate description. Make sure your description has all possible nuances.\n",
    "\n",
    "\"\"\"),\n",
    "\n",
    "    (\"human\", '''\n",
    "\n",
    "- Based on the column data, please generate description of entire table along with description for each column and sample values(1 or 2) for each column.\n",
    "- While generating column descriptions, please look at sql table description given to you and try to include them in column description. \n",
    "- DONT write generic description . Just write description based on what you see in columns.\n",
    "\n",
    "      \n",
    "Context regarding the tables:\n",
    "These tables are standard tables provided by  SAP S4 HANA.\n",
    "In SAP S/4HANA, the Cost Element Hierarchy defines the types of expenses and revenues (e.g., salaries, rent, advertising, sales income) and links financial accounts with controlling objects. Cost Centers represent organizational units such as departments or functions where costs are incurred, and each cost center is assigned to a Functional Area that groups similar activities (like production, sales, or administration) for reporting in Profit & Loss statements. Profit Centers represent business units responsible for profitability and are often associated with brands, divisions, or regions. Sales performance is captured in the Sales Data table, which records key figures (sales, margin), versions (plan, actual, forecast), time periods, and the related profit center. The Income and Expense Reporting table consolidates financial performance by linking cost elements, cost centers, functional areas, and profit centers, providing detailed insights into revenues, costs, and profitability across dimensions.\n",
    "\n",
    "Relationships:\n",
    "\n",
    "Cost Elements → Cost Centers: Each cost element is posted to a cost center to track where costs occur.\n",
    "Cost Centers → Functional Areas: Each cost center belongs to one functional area for P&L grouping.\n",
    "Profit Centers can aggregate multiple cost centers and capture sales and expense values.\n",
    "Sales Data → Profit Centers: Sales metrics are assigned to profit centers for profitability analysis.\n",
    "Income & Expense Reporting brings all together, linking Functional Area, Profit Center, Cost Center, and Cost Element with values, forming the central reporting layer.\n",
    "    \n",
    "\n",
    "Please create a JSON structure that includes:\n",
    "\n",
    "1. Each column name.\n",
    "2. A few sample values for each column (up to 3 values).\n",
    "\n",
    "The JSON should be simple, valid, and formatted like this:\n",
    "\n",
    "{{\n",
    "  \"columns\": {{\n",
    "    \"column1\": [\"sample_value1\", \"sample_value2\", \"sample_value3\"],\n",
    "    \"column2\": [\"sample_value1\", \"sample_value2\", \"sample_value3\"]\n",
    "  }}\n",
    "}}\n",
    "\n",
    "Important constraints:\n",
    "- Do NOT include any reasoning, explanation, or <think> blocks.\n",
    "- Do NOT include markdown, code fences, or extra text.\n",
    "- The output MUST be valid JSON parsable by standard JSON parsers.     \n",
    "SQL table name :\n",
    "{sql_tbl_nm}\n",
    "     \n",
    "SQL table description:\n",
    "{description}\n",
    "\n",
    "Sample rows from the table:\n",
    "{data_sample}  \n",
    "     \n",
    "     ''')\n",
    "])\n",
    "\n",
    "# Fix the RunnableMap implementation\n",
    "chain = (\n",
    "    RunnableMap({\n",
    "        \"description\": lambda x: x[\"description\"],\n",
    "        \"data_sample\": lambda x: x[\"data_sample\"],\n",
    "        \"sql_tbl_nm\": lambda x: x[\"sql_tbl_nm\"],\n",
    "    })\n",
    "    | template\n",
    "    | model\n",
    "    | StrOutputParser()\n",
    ")"
   ]
  },
  {
   "cell_type": "code",
   "execution_count": 67,
   "id": "18f7dfac",
   "metadata": {},
   "outputs": [
    {
     "name": "stderr",
     "output_type": "stream",
     "text": [
      "  0%|          | 0/9 [00:03<?, ?it/s]"
     ]
    },
    {
     "name": "stdout",
     "output_type": "stream",
     "text": [
      "<think>\n",
      "Alright, I need to create a JSON structure based on the provided SQL table information. The table is named \"brand_master\" and contains data about brand mappings, specifically brand_id and brand_name. \n",
      "\n",
      "First, I'll start by setting the table name in the JSON. Then, I'll move on to the columns. There are two columns: \"brand_id\" and \"brand_name\". \n",
      "\n",
      "For each column, I need to provide a few sample values. Looking at the sample rows given, I can extract values for each column. For \"brand_id\", the samples are \"B002\", \"B003\", and \"B001\". For \"brand_name\", the samples are \"Beta Brand\", \"Gamma Brand\", and \"Alpha Brand\".\n",
      "\n",
      "I'll structure the JSON accordingly, ensuring it's valid and follows the specified format. I'll make sure not to include any extra text or markdown, keeping it clean and parsable.\n",
      "</think>\n",
      "\n",
      "{\n",
      "  \"table_name\": \"brand_master\",\n",
      "  \"columns\": {\n",
      "    \"brand_id\": [\"B002\", \"B003\", \"B001\"],\n",
      "    \"brand_name\": [\"Beta Brand\", \"Gamma Brand\", \"Alpha Brand\"]\n",
      "  }\n",
      "}\n",
      "====================================================\n"
     ]
    },
    {
     "name": "stderr",
     "output_type": "stream",
     "text": [
      "\n"
     ]
    }
   ],
   "source": [
    "import json\n",
    "import re\n",
    "import time\n",
    "import tqdm\n",
    "from sqlalchemy import create_engine\n",
    "\n",
    "# Initialize DB engine\n",
    "engine = create_engine(\n",
    "    f\"postgresql://{DB_USER}:{DB_PASSWORD}@{DB_HOST}:{DB_PORT}/{DB_NAME}?sslmode=require\"\n",
    ")\n",
    "\n",
    "# Safe parser function\n",
    "def parse_llm_json(text):\n",
    "    \"\"\"\n",
    "    Cleans up LLM output by removing <think> blocks and parsing JSON.\n",
    "    Returns a Python object (dict/list) or None if parsing fails.\n",
    "    \"\"\"\n",
    "    # Remove <think>...</think>\n",
    "    cleaned = re.sub(r\"<think>.*?</think>\\n*\", \"\", text, flags=re.DOTALL).strip()\n",
    "    match = re.search(r\"\\{.*\\}\", cleaned, flags=re.DOTALL)\n",
    "    if match:\n",
    "        return json.loads(match.group(0))\n",
    "    return None\n",
    "\n",
    "    \n",
    "# Dictionary to store final results\n",
    "kb_final = {}\n",
    "\n",
    "for table_name, table_desc in tqdm.tqdm(table_description.items()):\n",
    "    # 1️⃣ Read sample data from the DB\n",
    "    df_sample = read_sql(table_name, engine)\n",
    "\n",
    "    # 2️⃣ Convert DataFrame to JSON-friendly structure\n",
    "    data_sample_json = df_sample.to_dict(orient=\"records\")\n",
    "\n",
    "    # 3️⃣ Invoke LLM\n",
    "    raw_response = chain.invoke({\n",
    "        \"description\": table_desc,\n",
    "        \"data_sample\": json.dumps(data_sample_json),\n",
    "        \"sql_tbl_nm\" : table_name\n",
    "    }).replace('```', '')  # remove markdown code fences if any\n",
    "\n",
    "    print(raw_response)\n",
    "    print('====================================================')\n",
    "\n",
    "    # 4️⃣ Parse LLM response safely into Python dict/list\n",
    "    kb_final[table_name] = parse_llm_json(raw_response)\n",
    "    break\n",
    "    # 5️⃣ Optional: small delay between requests\n",
    "    time.sleep(5)\n",
    "\n",
    "# kb_final now contains proper Python objects keyed by table name\n"
   ]
  },
  {
   "cell_type": "code",
   "execution_count": 68,
   "id": "9f584b58",
   "metadata": {},
   "outputs": [
    {
     "data": {
      "text/plain": [
       "{'brand_master': {'table_name': 'brand_master',\n",
       "  'columns': {'brand_id': ['B002', 'B003', 'B001'],\n",
       "   'brand_name': ['Beta Brand', 'Gamma Brand', 'Alpha Brand']}}}"
      ]
     },
     "execution_count": 68,
     "metadata": {},
     "output_type": "execute_result"
    }
   ],
   "source": [
    "kb_final"
   ]
  },
  {
   "cell_type": "code",
   "execution_count": 30,
   "id": "2114ba52",
   "metadata": {},
   "outputs": [
    {
     "ename": "TypeError",
     "evalue": "eval() arg 1 must be a string, bytes or code object",
     "output_type": "error",
     "traceback": [
      "\u001b[31m---------------------------------------------------------------------------\u001b[39m",
      "\u001b[31mTypeError\u001b[39m                                 Traceback (most recent call last)",
      "\u001b[36mCell\u001b[39m\u001b[36m \u001b[39m\u001b[32mIn[30]\u001b[39m\u001b[32m, line 1\u001b[39m\n\u001b[32m----> \u001b[39m\u001b[32m1\u001b[39m \u001b[38;5;28;43meval\u001b[39;49m\u001b[43m(\u001b[49m\u001b[43mtest\u001b[49m\u001b[43m)\u001b[49m\n",
      "\u001b[31mTypeError\u001b[39m: eval() arg 1 must be a string, bytes or code object"
     ]
    }
   ],
   "source": [
    "eval(test)"
   ]
  }
 ],
 "metadata": {
  "kernelspec": {
   "display_name": "venv",
   "language": "python",
   "name": "python3"
  },
  "language_info": {
   "codemirror_mode": {
    "name": "ipython",
    "version": 3
   },
   "file_extension": ".py",
   "mimetype": "text/x-python",
   "name": "python",
   "nbconvert_exporter": "python",
   "pygments_lexer": "ipython3",
   "version": "3.13.3"
  }
 },
 "nbformat": 4,
 "nbformat_minor": 5
}
